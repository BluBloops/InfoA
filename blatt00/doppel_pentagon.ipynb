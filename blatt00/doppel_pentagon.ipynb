{
 "cells": [
  {
   "cell_type": "code",
   "execution_count": 1,
   "id": "b8d90e73",
   "metadata": {},
   "outputs": [],
   "source": [
    "from algoviz import AlgoViz\n",
    "from algoviz.turtle import Turtle"
   ]
  },
  {
   "cell_type": "code",
   "execution_count": 2,
   "id": "b2e5689e",
   "metadata": {},
   "outputs": [],
   "source": [
    "AlgoViz.clear()\n",
    "\n",
    "zeichner = Turtle(400, 400, \"Doppel Pentagon\")\n",
    "\n",
    "# Ein Pentagon ist ein fünfseitiges Polygon mit gleichlangen Seiten.\n",
    "# Es besitzt fünf gleichgroße Innen- und Außenwinkel mit jeweils einem Wert von \n",
    "# 108 Grad und 72 Grad.\n",
    "seiten_laenge = 100\n",
    "innen_winkel = 108\n",
    "aussen_winkel = 72"
   ]
  },
  {
   "cell_type": "code",
   "execution_count": 3,
   "id": "883fb1e0",
   "metadata": {},
   "outputs": [],
   "source": [
    "# Der Zeichner wird zum Zeichnen des ersten Pentagons in Position gedreht\n",
    "zeichner.turn(innen_winkel)\n",
    "\n",
    "# Das erste Pentagon auf der linken Seite wird gezeichnet\n",
    "for i in range(5):\n",
    "    zeichner.forward(seiten_laenge)\n",
    "    zeichner.turn(aussen_winkel)\n",
    "\n",
    "# Der Zeichner wird zum Zeichnen des zweiten Pentagons in Position gedreht\n",
    "zeichner.turn(180 + innen_winkel + aussen_winkel / 2)\n",
    "\n",
    "# Das zweite Pentagon auf der rechten Seite wird gezeichnet\n",
    "for i in range(5):\n",
    "    zeichner.forward(seiten_laenge)\n",
    "    zeichner.turn(360 - aussen_winkel)"
   ]
  }
 ],
 "metadata": {
  "kernelspec": {
   "display_name": "Python 3 (ipykernel)",
   "language": "python",
   "name": "python3"
  },
  "language_info": {
   "codemirror_mode": {
    "name": "ipython",
    "version": 3
   },
   "file_extension": ".py",
   "mimetype": "text/x-python",
   "name": "python",
   "nbconvert_exporter": "python",
   "pygments_lexer": "ipython3",
   "version": "3.11.0"
  }
 },
 "nbformat": 4,
 "nbformat_minor": 5
}
