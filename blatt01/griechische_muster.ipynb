{
 "cells": [
  {
   "cell_type": "code",
   "execution_count": 6,
   "id": "39fe3180",
   "metadata": {},
   "outputs": [],
   "source": [
    "from algoviz import AlgoViz\n",
    "from algoviz.turtle import Turtle"
   ]
  },
  {
   "cell_type": "code",
   "execution_count": 7,
   "id": "7d221fdc",
   "metadata": {},
   "outputs": [],
   "source": [
    "wiederholungen = 6"
   ]
  },
  {
   "cell_type": "code",
   "execution_count": 14,
   "id": "52a22983",
   "metadata": {},
   "outputs": [],
   "source": [
    "AlgoViz.clear()\n",
    "\n",
    "zeichner = Turtle(400, 125, 'Griechische Muster')\n",
    "zeichner.set_color('blue')\n",
    "zeichner.set_width(5)\n",
    "zeichner.move_to(20, 20)\n",
    "\n",
    "for i in range(wiederholungen):\n",
    "    zeichner.move_to(i * 50, 40)\n",
    "    zeichner.forward(50)\n",
    "    zeichner.move_to(i * 50, 90)\n",
    "    zeichner.forward(5)\n",
    "    zeichner.turn(270)\n",
    "    zeichner.forward(40)\n",
    "    zeichner.turn(90)\n",
    "    zeichner.forward(40)\n",
    "    zeichner.turn(90)\n",
    "    zeichner.forward(25)\n",
    "    zeichner.turn(90)\n",
    "    zeichner.forward(20)\n",
    "    zeichner.move_to(zeichner.get_x() + 12.5, zeichner.get_y() - 12.5)\n",
    "    zeichner.forward(20)\n",
    "    zeichner.turn(270)\n",
    "    zeichner.forward(27.5)\n",
    "    zeichner.turn(270)\n",
    "    zeichner.forward(37.5)\n",
    "    zeichner.move_to(i * 50, 100)\n",
    "    zeichner.forward(50)"
   ]
  }
 ],
 "metadata": {
  "kernelspec": {
   "display_name": "Python 3 (ipykernel)",
   "language": "python",
   "name": "python3"
  },
  "language_info": {
   "codemirror_mode": {
    "name": "ipython",
    "version": 3
   },
   "file_extension": ".py",
   "mimetype": "text/x-python",
   "name": "python",
   "nbconvert_exporter": "python",
   "pygments_lexer": "ipython3",
   "version": "3.11.0"
  }
 },
 "nbformat": 4,
 "nbformat_minor": 5
}
