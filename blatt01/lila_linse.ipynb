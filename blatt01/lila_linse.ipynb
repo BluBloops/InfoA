{
 "cells": [
  {
   "cell_type": "code",
   "execution_count": 5,
   "id": "c9f1860e",
   "metadata": {},
   "outputs": [],
   "source": [
    "from algoviz import AlgoViz\n",
    "from algoviz.svg import SVGView, Circle"
   ]
  },
  {
   "cell_type": "code",
   "execution_count": 6,
   "id": "36985b47",
   "metadata": {},
   "outputs": [],
   "source": [
    "AlgoViz.clear()\n",
    "view = SVGView(400, 400)\n",
    "\n",
    "red_circle = Circle(0, 0, 1, view)\n",
    "blue_circle = Circle(400, 400, 1, view)\n",
    "\n",
    "for i in range (400) :\n",
    "    red_circle.set_fill_rgb(i, 0, 0, 0.5)\n",
    "    red_circle.move_to(i, i)\n",
    "    red_circle.set_radius(i)\n",
    "    red_circle.set_color_rgb(i, 0, 0, 0.5)\n",
    "    blue_circle.set_fill_rgb(0, 0, i, 0.5)\n",
    "    blue_circle.move_to(400-i, 400-i)\n",
    "    blue_circle.set_radius(i)\n",
    "    blue_circle.set_color_rgb(0, 0, i, 0.5)\n",
    "    AlgoViz.sleep(10)"
   ]
  }
 ],
 "metadata": {
  "kernelspec": {
   "display_name": "Python 3 (ipykernel)",
   "language": "python",
   "name": "python3"
  },
  "language_info": {
   "codemirror_mode": {
    "name": "ipython",
    "version": 3
   },
   "file_extension": ".py",
   "mimetype": "text/x-python",
   "name": "python",
   "nbconvert_exporter": "python",
   "pygments_lexer": "ipython3",
   "version": "3.11.0"
  }
 },
 "nbformat": 4,
 "nbformat_minor": 5
}
