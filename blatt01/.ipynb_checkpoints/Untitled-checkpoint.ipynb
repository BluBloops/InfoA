{
 "cells": [
  {
   "cell_type": "code",
   "execution_count": 5,
   "id": "ff82c706",
   "metadata": {},
   "outputs": [],
   "source": [
    "from algoviz import AlgoViz\n",
    "from algoviz.turtle import Turtle"
   ]
  },
  {
   "cell_type": "code",
   "execution_count": 18,
   "id": "5f9a0feb",
   "metadata": {},
   "outputs": [],
   "source": [
    "AlgoViz.clear()\n",
    "\n",
    "svg_y = 200\n",
    "svg_x = 600\n",
    "\n",
    "zeichner = Turtle(svg_x, svg_y, \"Griechische Muster\")\n",
    "\n",
    "zeichner.move_to(0, svg_y / 8)\n",
    "zeichner.set_color(\"blue\")\n",
    "zeichner.\n",
    "\n",
    "zeichner.forward(10)"
   ]
  },
  {
   "cell_type": "code",
   "execution_count": null,
   "id": "265edef0",
   "metadata": {},
   "outputs": [],
   "source": []
  }
 ],
 "metadata": {
  "kernelspec": {
   "display_name": "Python 3 (ipykernel)",
   "language": "python",
   "name": "python3"
  },
  "language_info": {
   "codemirror_mode": {
    "name": "ipython",
    "version": 3
   },
   "file_extension": ".py",
   "mimetype": "text/x-python",
   "name": "python",
   "nbconvert_exporter": "python",
   "pygments_lexer": "ipython3",
   "version": "3.11.0"
  }
 },
 "nbformat": 4,
 "nbformat_minor": 5
}
