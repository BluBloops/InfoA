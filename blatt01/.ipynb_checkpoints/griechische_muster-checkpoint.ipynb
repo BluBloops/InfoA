{
 "cells": [
  {
   "cell_type": "code",
   "execution_count": 1,
   "id": "e3b2fc03",
   "metadata": {},
   "outputs": [],
   "source": [
    "from algoviz import AlgoViz\n",
    "from algoviz.turtle import Turtle"
   ]
  },
  {
   "cell_type": "code",
   "execution_count": 81,
   "id": "b66fd264",
   "metadata": {},
   "outputs": [],
   "source": [
    "AlgoViz.clear()\n",
    "\n",
    "svg_x = 600\n",
    "svg_y = 200\n",
    "# strich_breite = 5\n",
    "strich_farbe = \"blue\"\n",
    "muster_laenge_x = 100\n",
    "muster_laenge_y = svg_y - 50\n",
    "muster_wiederholungen = 2\n",
    "#abstand_multiplikator = 3\n",
    "oberer_unterer_abstand = 15\n",
    "\n",
    "zeichner = Turtle(svg_x, svg_y, \"Griechische Muster\")\n",
    "\n",
    "zeichner.move_to(0, svg_y / 8)\n",
    "zeichner.set_color(strich_farbe)\n",
    "zeichner.set_width(strich_breite)"
   ]
  },
  {
   "cell_type": "code",
   "execution_count": 82,
   "id": "bef27af2",
   "metadata": {},
   "outputs": [],
   "source": [
    "for i in range (muster_wiederholungen):\n",
    "    AlgoViz.sleep(2000)\n",
    "    zeichner.forward(muster_laenge_x)\n",
    "    zeichner.move_to(zeichner.get_x() - muster_laenge_x, zeichner.get_y() + muster_laenge_y / 2)\n",
    "    zeichner.turn(270)\n",
    "    zeichner.forward(muster_laenge_y / 2 - oberer_unterer_abstand)\n",
    "    zeichner.turn(90)\n",
    "    zeichner.forward(muster_laenge_x)\n",
    "    zeichner.turn(90)\n",
    "    zeichner.forward(muster_laenge_y / 4)\n",
    "    zeichner.turn(90)\n",
    "    zeichner.forward(muster_laenge_x / 2)\n",
    "    zeichner.move_to(zeichner.get_x() + muster_laenge_x / 4, zeichner.get_y() - muster_laenge_y / 8)\n",
    "    zeichner.forward(muster_laenge_x / 2)\n",
    "    zeichner.turn(270)\n",
    "    zeichner.forward(muster_laenge_y / 4)\n",
    "    zeichner.turn(270)\n",
    "    zeichner.forward(muster_laenge_x * 3/4)\n",
    "    zeichner.move_to(zeichner.get_x() - muster_laenge_x, zeichner.get_y() + oberer_unterer_abstand)\n",
    "    zeichner.forward(muster_laenge_x)\n",
    "    zeichner.move_to(zeichner.get_x() - muster_laenge_x * i, zeichner.get_y() - muster_laenge_y / 2 - oberer_unterer_abstand)"
   ]
  },
  {
   "cell_type": "code",
   "execution_count": null,
   "id": "5c168421",
   "metadata": {},
   "outputs": [],
   "source": [
    "for i in range (muster_wiederholungen)"
   ]
  }
 ],
 "metadata": {
  "kernelspec": {
   "display_name": "Python 3 (ipykernel)",
   "language": "python",
   "name": "python3"
  },
  "language_info": {
   "codemirror_mode": {
    "name": "ipython",
    "version": 3
   },
   "file_extension": ".py",
   "mimetype": "text/x-python",
   "name": "python",
   "nbconvert_exporter": "python",
   "pygments_lexer": "ipython3",
   "version": "3.11.0"
  }
 },
 "nbformat": 4,
 "nbformat_minor": 5
}
