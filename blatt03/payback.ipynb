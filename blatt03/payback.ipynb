{
 "cells": [
  {
   "cell_type": "code",
   "execution_count": 12,
   "id": "d4cb9b50",
   "metadata": {},
   "outputs": [
    {
     "name": "stdout",
     "output_type": "stream",
     "text": [
      "Bitte Payback Kartnennumer eingeben: 123456789012345\n",
      "Liegt eine Vermutung fuer die Pruefziffer vor? (ja oder nein eingeben): ja\n",
      "Bitte die vermutete Pruefziffer eingeben: 2\n"
     ]
    }
   ],
   "source": [
    "pbkn_conditions_satisfied = False\n",
    "pruefziffer_conditions_satisfied = False\n",
    "payback_num = []\n",
    "vermutung = 'nein'\n",
    "vermutung_pruefziffer = 0\n",
    "\n",
    "while not pbkn_conditions_satisfied:\n",
    "    try:\n",
    "        payback_num = [int(d) for d in input('Bitte Payback Kartnennumer eingeben: ')]\n",
    "    except ValueError:\n",
    "        print('Bitte nur ganze Zahlen eingeben')\n",
    "    if len(payback_num) < 15:\n",
    "        print('Payback Kartennummer haben 15 Ziffer')\n",
    "    else:\n",
    "        pbkn_conditions_satisfied = True\n",
    "\n",
    "vermutung = input('Liegt eine Vermutung fuer die Pruefziffer vor? (ja oder nein eingeben): ')\n",
    "if vermutung == 'ja':\n",
    "    while not pruefziffer_conditions_satisfied:      \n",
    "        try:\n",
    "            vermutung_pruefziffer = int(input('Bitte die vermutete Pruefziffer eingeben: '))\n",
    "        except ValueError:\n",
    "            print('Bitte nur ganze Zahlen eingeben')\n",
    "        else:\n",
    "            pruefziffer_conditions_satisfied = True"
   ]
  },
  {
   "cell_type": "code",
   "execution_count": 13,
   "id": "822438ad",
   "metadata": {},
   "outputs": [
    {
     "name": "stdout",
     "output_type": "stream",
     "text": [
      "Ihre Vermutung fuer die Pruefziffer stimmt nicht ueberein\n",
      "Die eigentliche Pruefziffer ist:  6\n",
      "Die vollstaendige Paybacknummer inklusive Pruefziffer ist:  123456789012345 6\n"
     ]
    }
   ],
   "source": [
    "produkte_fuer_quersumme = []\n",
    "quersumme = 0\n",
    "\n",
    "for i in range(len(payback_num)):\n",
    "    if i % 2 == 0 or i == 0:\n",
    "        produkte_fuer_quersumme.append(payback_num[i] * 2)\n",
    "    else:\n",
    "        produkte_fuer_quersumme.append(payback_num[i] * 1)\n",
    "        \n",
    "for i in range (len(payback_num)):\n",
    "    quersumme += produkte_fuer_quersumme[i]\n",
    "    \n",
    "quersumme_modulo = quersumme % 10\n",
    "pruefziffer = 10 - quersumme_modulo\n",
    "vermutung_korrekt = False\n",
    "\n",
    "if vermutung_pruefziffer - pruefziffer == 0 and vermutung == 'ja':\n",
    "    print('Ihre Vermutung fuer die Pruefziffer war korrekt.')\n",
    "elif vermutung == 'ja':\n",
    "    print('Ihre Vermutung fuer die Pruefziffer stimmt nicht ueberein')\n",
    "    print('Die eigentliche Pruefziffer ist: ', pruefziffer)\n",
    "    \n",
    "print('Die vollstaendige Paybacknummer inklusive Pruefziffer ist: ', ''.join(map(str, payback_num)), pruefziffer)"
   ]
  }
 ],
 "metadata": {
  "kernelspec": {
   "display_name": "Python 3 (ipykernel)",
   "language": "python",
   "name": "python3"
  },
  "language_info": {
   "codemirror_mode": {
    "name": "ipython",
    "version": 3
   },
   "file_extension": ".py",
   "mimetype": "text/x-python",
   "name": "python",
   "nbconvert_exporter": "python",
   "pygments_lexer": "ipython3",
   "version": "3.11.0"
  }
 },
 "nbformat": 4,
 "nbformat_minor": 5
}
