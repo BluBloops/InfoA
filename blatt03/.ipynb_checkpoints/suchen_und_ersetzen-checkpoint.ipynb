{
 "cells": [
  {
   "cell_type": "code",
   "execution_count": 48,
   "id": "7a88963b",
   "metadata": {},
   "outputs": [
    {
     "name": "stdout",
     "output_type": "stream",
     "text": [
      "Bitte zu testenden String eingeben (nur Kleinbuchstaben): baumhaus\n",
      "baumhaus\n"
     ]
    }
   ],
   "source": [
    "while True:\n",
    "    try: \n",
    "        eingabe_string = str(input('Bitte zu testenden String eingeben (nur Kleinbuchstaben): '))\n",
    "    except ValueError:\n",
    "        print('Bitte einen gueltigen String eingeben')\n",
    "        continue\n",
    "        \n",
    "    string_length = 0\n",
    "    for characters in eingabe_string:\n",
    "        string_length += 1\n",
    "        \n",
    "    for i in range(string_length):\n",
    "        if(ord(eingabe_string[i]) < 97) or (ord(eingabe_string[i]) > 122):\n",
    "            print('Bitte nur Kleinbuchstaben verwenden')\n",
    "            break\n",
    "        else:\n",
    "            continue\n",
    "    break"
   ]
  },
  {
   "cell_type": "code",
   "execution_count": 49,
   "id": "ba7b2bd8",
   "metadata": {},
   "outputs": [
    {
     "name": "stdout",
     "output_type": "stream",
     "text": [
      "Eingabestring:  baumhaus \n",
      "\n",
      "Ausgabe: \n",
      "Originalstring:  baumhaus \n",
      "Buchstabe:  a \n",
      "Index:  1\n",
      "Ergebnisstring:  bAumhaus\n"
     ]
    }
   ],
   "source": [
    "buchstabe_index = 0\n",
    "buchstabe_found = False\n",
    "\n",
    "for i in range(string_length):    \n",
    "    for x in range(i):\n",
    "        if(ord(eingabe_string[i]) == ord(eingabe_string[x])):\n",
    "            buchstabe_index = x - 1\n",
    "            buchstabe_found = True\n",
    "\n",
    "buchstabe_gross = ord(eingabe_string[buchstabe_index]) - 32\n",
    "ergebnis_string = eingabe_string[:buchstabe_index] + chr(buchstabe_gross) + eingabe_string[buchstabe_index+1:]\n",
    "            \n",
    "if not buchstabe_found:\n",
    "    print('Alle Buchstaben wiederholen sich, bitte Programm nochmal mit unterschiedlichen Kleinbuchstaben ausführen')\n",
    "else :\n",
    "    print('Eingabestring: ', eingabe_string, '\\n\\nAusgabe: \\nOriginalstring: ', eingabe_string, '\\nBuchstabe: ', \n",
    "              eingabe_string[buchstabe_index], '\\nIndex: ', buchstabe_index)\n",
    "    print('Ergebnisstring: ', ergebnis_string)"
   ]
  }
 ],
 "metadata": {
  "kernelspec": {
   "display_name": "Python 3 (ipykernel)",
   "language": "python",
   "name": "python3"
  },
  "language_info": {
   "codemirror_mode": {
    "name": "ipython",
    "version": 3
   },
   "file_extension": ".py",
   "mimetype": "text/x-python",
   "name": "python",
   "nbconvert_exporter": "python",
   "pygments_lexer": "ipython3",
   "version": "3.11.0"
  }
 },
 "nbformat": 4,
 "nbformat_minor": 5
}
