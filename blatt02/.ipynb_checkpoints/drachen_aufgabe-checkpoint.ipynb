{
 "cells": [
  {
   "cell_type": "code",
   "execution_count": 33,
   "id": "c7c81b21",
   "metadata": {},
   "outputs": [
    {
     "name": "stdout",
     "output_type": "stream",
     "text": [
      "Bitte eine ungerade Drachenhoehe >= 3: 7\n",
      "Bitte eine Schnurlaenge >= 2: 8\n"
     ]
    }
   ],
   "source": [
    "while True:\n",
    "    try:\n",
    "        drachenhoehe = int(input('Bitte eine ungerade Drachenhoehe >= 3: '))\n",
    "    except ValueError:\n",
    "        print('Bitte nur ganze Zahlen eingeben')\n",
    "        continue\n",
    "    if drachenhoehe < 3:\n",
    "        print('Bitte eine Zahl größer als oder gleich drei eingeben')\n",
    "        continue\n",
    "    if drachenhoehe % 2 == 0:\n",
    "        print('Bitte eine ungerade Zahl eingeben')\n",
    "        continue\n",
    "    else:\n",
    "        break\n",
    "        \n",
    "while True:\n",
    "    try:\n",
    "        schnurlaenge = int(input('Bitte eine Schnurlaenge >= 2: '))\n",
    "    except ValueError:\n",
    "        print('Bitte nur ganze Zahlen eingeben')\n",
    "        continue\n",
    "    if schnurlaenge < 2:\n",
    "        print('Bitte eine Zahl größer als oder gleich zwei eingeben')\n",
    "        continue\n",
    "    else:\n",
    "        break"
   ]
  },
  {
   "cell_type": "code",
   "execution_count": 34,
   "id": "597bbe65",
   "metadata": {},
   "outputs": [
    {
     "name": "stdout",
     "output_type": "stream",
     "text": [
      "    x\n",
      "   xxx\n",
      "  xxxxx\n",
      " xxxxxxx\n",
      "  xxxxx\n",
      "   xxx\n",
      "    x\r",
      "    x\n",
      "     x\n",
      "    x\n",
      "     x\n",
      "    x\n",
      "     x\n",
      "    x\n",
      "     x\n",
      "    x\n"
     ]
    }
   ],
   "source": [
    "x = 1\n",
    "empty_space = drachenhoehe // 2 + 1\n",
    "\n",
    "for i in range((drachenhoehe // 2) + 1):\n",
    "    empty_space -= 1\n",
    "    print(' ' * empty_space, 'x' * x)\n",
    "    x += 2\n",
    "    \n",
    "x -= 2\n",
    "    \n",
    "for i in range((drachenhoehe // 2) + 1):\n",
    "    x -= 2\n",
    "    empty_space += 1\n",
    "    if(x == 1):\n",
    "        print(' ' * empty_space, 'x' * x, end = '\\r')\n",
    "        break\n",
    "    else:\n",
    "        print(' ' * empty_space, 'x' * x)\n",
    "\n",
    "    \n",
    "for i in range(schnurlaenge + 1):\n",
    "    if(i % 2 == 0):\n",
    "        print(' ' * (empty_space), 'x')\n",
    "    else:\n",
    "        print(' ' * (empty_space + 1), 'x')"
   ]
  }
 ],
 "metadata": {
  "kernelspec": {
   "display_name": "Python 3 (ipykernel)",
   "language": "python",
   "name": "python3"
  },
  "language_info": {
   "codemirror_mode": {
    "name": "ipython",
    "version": 3
   },
   "file_extension": ".py",
   "mimetype": "text/x-python",
   "name": "python",
   "nbconvert_exporter": "python",
   "pygments_lexer": "ipython3",
   "version": "3.11.0"
  }
 },
 "nbformat": 4,
 "nbformat_minor": 5
}
