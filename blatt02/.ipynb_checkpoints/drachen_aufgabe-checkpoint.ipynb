{
 "cells": [
  {
   "cell_type": "code",
   "execution_count": 3,
   "id": "c7c81b21",
   "metadata": {},
   "outputs": [
    {
     "name": "stdout",
     "output_type": "stream",
     "text": [
      "Bitte eine ungerade Drachenhoehe >= 3: 7\n",
      "Bitte eine Schnurlaenge >= 2: -2\n",
      "Bitte eine Zahl größer als oder gleich zwei eingeben\n",
      "Bitte eine Schnurlaenge >= 2: 0\n",
      "Bitte eine Zahl größer als oder gleich zwei eingeben\n",
      "Bitte eine Schnurlaenge >= 2: int\n",
      "Bitte nur ganze Zahlen eingeben\n",
      "Bitte eine Schnurlaenge >= 2: 3\n"
     ]
    }
   ],
   "source": [
    "drachenhoehe = 0\n",
    "schnurlaenge = 0\n",
    "\n",
    "while True:\n",
    "    try:\n",
    "        drachenhoehe = int(input('Bitte eine ungerade Drachenhoehe >= 3: '))\n",
    "    except ValueError:\n",
    "        print('Bitte nur ganze Zahlen eingeben')\n",
    "        continue\n",
    "    if drachenhoehe < 3:\n",
    "        print('Bitte eine Zahl größer als oder gleich drei eingeben')\n",
    "        continue\n",
    "    if drachenhoehe % 2 == 0:\n",
    "        print('Bitte eine ungerade Zahl eingeben')\n",
    "        continue\n",
    "    else:\n",
    "        break\n",
    "        \n",
    "while True:\n",
    "    try:\n",
    "        schnurlaenge = int(input('Bitte eine Schnurlaenge >= 2: '))\n",
    "    except ValueError:\n",
    "        print('Bitte nur ganze Zahlen eingeben')\n",
    "        continue\n",
    "    if schnurlaenge < 2:\n",
    "        print('Bitte eine Zahl größer als oder gleich zwei eingeben')\n",
    "        continue\n",
    "    else:\n",
    "        break"
   ]
  },
  {
   "cell_type": "code",
   "execution_count": 1,
   "id": "5f69ca87",
   "metadata": {},
   "outputs": [
    {
     "ename": "NameError",
     "evalue": "name 'drachen' is not defined",
     "output_type": "error",
     "traceback": [
      "\u001b[0;31m---------------------------------------------------------------------------\u001b[0m",
      "\u001b[0;31mNameError\u001b[0m                                 Traceback (most recent call last)",
      "Cell \u001b[0;32mIn[1], line 1\u001b[0m\n\u001b[0;32m----> 1\u001b[0m \u001b[43mdrachen\u001b[49m[drachenhoehe] \u001b[38;5;241m=\u001b[39m \u001b[38;5;241m0\u001b[39m\n",
      "\u001b[0;31mNameError\u001b[0m: name 'drachen' is not defined"
     ]
    }
   ],
   "source": [
    "drachen[drachenhoehe] = 0"
   ]
  },
  {
   "cell_type": "code",
   "execution_count": null,
   "id": "affad6f0",
   "metadata": {},
   "outputs": [],
   "source": [
    "for i in range(drachenhoehe):\n",
    "    while drachenhoehe / i < 2:\n",
    "        "
   ]
  },
  {
   "cell_type": "code",
   "execution_count": 5,
   "id": "cd1e491f",
   "metadata": {},
   "outputs": [
    {
     "name": "stdout",
     "output_type": "stream",
     "text": [
      "0\n",
      "1\n",
      "2\n",
      "3\n",
      "4\n"
     ]
    }
   ],
   "source": [
    "for i in range (5):\n",
    "    print (i)"
   ]
  }
 ],
 "metadata": {
  "kernelspec": {
   "display_name": "Python 3 (ipykernel)",
   "language": "python",
   "name": "python3"
  },
  "language_info": {
   "codemirror_mode": {
    "name": "ipython",
    "version": 3
   },
   "file_extension": ".py",
   "mimetype": "text/x-python",
   "name": "python",
   "nbconvert_exporter": "python",
   "pygments_lexer": "ipython3",
   "version": "3.11.0"
  }
 },
 "nbformat": 4,
 "nbformat_minor": 5
}
