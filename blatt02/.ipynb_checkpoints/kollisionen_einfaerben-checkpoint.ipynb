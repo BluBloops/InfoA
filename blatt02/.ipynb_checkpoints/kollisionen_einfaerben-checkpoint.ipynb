{
 "cells": [
  {
   "cell_type": "code",
   "execution_count": 1,
   "id": "5ce90af3",
   "metadata": {},
   "outputs": [],
   "source": [
    "from random import seed, randrange\n",
    "from algoviz.svg import SVGView, Rect, Text\n",
    "from algoviz import AlgoViz"
   ]
  },
  {
   "cell_type": "code",
   "execution_count": 4,
   "id": "2a73b7c8",
   "metadata": {},
   "outputs": [],
   "source": [
    "seed()\n",
    "blaues_rechteck_x = randrange(1, 150)\n",
    "blaues_rechteck_y = randrange(1, 150)\n",
    "rotes_rechteck_x = randrange(1, 150)\n",
    "rotes_rechteck_y = randrange(1, 150)"
   ]
  },
  {
   "cell_type": "code",
   "execution_count": 5,
   "id": "d46f30f5",
   "metadata": {},
   "outputs": [],
   "source": [
    "AlgoViz.clear()\n",
    "\n",
    "view = SVGView(200, 200, 'Rechteck Kollisionen')\n",
    "blaues_rechteck = Rect(blaues_rechteck_x, blaues_rechteck_y, 50, 50, view)\n",
    "rotes_rechteck = Rect(rotes_rechteck_x, rotes_rechteck_y, 50, 50, view)\n",
    "\n",
    "blaues_rechteck.set_fill('blue')\n",
    "rotes_rechteck.set_fill('red')\n",
    "\n",
    "if (blaues_rechteck_x + 50 > rotes_rechteck_x) and (blaues_rechteck_y + 50 > rotes_rechteck_y):\n",
    "    rechteck_x_differenz = rotes_rechteck_x - blaues_rechteck_x\n",
    "    rechteck_y_differenz = rotes_rechteck_y - blaues_rechteck_y\n",
    "    rechteck3 = Rect(blaues_rechteck_x + rechteck_x_differenz, blaues_rechteck_y, \n",
    "                     50 - rechteck_x_differenz, 50 + rechteck_y_differenz, view)\n",
    "    rechteck3.set_fill('pink')\n",
    "else:\n",
    "    t = Text(50, 15, \"Kein Schnittpunkt\", view)"
   ]
  }
 ],
 "metadata": {
  "kernelspec": {
   "display_name": "Python 3 (ipykernel)",
   "language": "python",
   "name": "python3"
  },
  "language_info": {
   "codemirror_mode": {
    "name": "ipython",
    "version": 3
   },
   "file_extension": ".py",
   "mimetype": "text/x-python",
   "name": "python",
   "nbconvert_exporter": "python",
   "pygments_lexer": "ipython3",
   "version": "3.11.0"
  }
 },
 "nbformat": 4,
 "nbformat_minor": 5
}
