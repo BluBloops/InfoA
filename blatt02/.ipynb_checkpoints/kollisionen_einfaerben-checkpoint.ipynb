{
 "cells": [
  {
   "cell_type": "code",
   "execution_count": 4,
   "id": "5ce90af3",
   "metadata": {},
   "outputs": [],
   "source": [
    "from random import seed, randrange\n",
    "from algoviz.svg import SVGView, Rect, Text\n",
    "from algoviz import AlgoViz"
   ]
  },
  {
   "cell_type": "code",
   "execution_count": 52,
   "id": "2a73b7c8",
   "metadata": {},
   "outputs": [],
   "source": [
    "seed()\n",
    "rechteck1_x = randrange(1, 150)\n",
    "rechteck1_y = randrange(1, 150)\n",
    "rechteck2_x = randrange(1, 150)\n",
    "rechteck2_y = randrange(1, 150)"
   ]
  },
  {
   "cell_type": "code",
   "execution_count": 53,
   "id": "d46f30f5",
   "metadata": {},
   "outputs": [],
   "source": [
    "AlgoViz.clear()\n",
    "\n",
    "view = SVGView(200,200)\n",
    "rechteck1 = Rect(rechteck1_x, rechteck1_y, 50, 50, view)\n",
    "rechteck2 = Rect(rechteck2_x, rechteck2_y, 50, 50, view)\n",
    "\n",
    "rechteck1.set_fill('blue')\n",
    "rechteck2.set_fill('red')\n",
    "\n",
    "if (rechteck1_x + 50 > rechteck2_x and rechteck1_y + 50 > rechteck2_y):\n",
    "    rechteck_x_differenz = rechteck2_x - rechteck1_x\n",
    "    rechteck_y_differenz = rechteck2_y - rechteck1_y\n",
    "    rechteck3 = Rect(rechteck1_x + rechteck_x_differenz, rechteck1_y, \n",
    "                     50 - rechteck_x_differenz, 50 + rechteck_y_differenz, view)\n",
    "    rechteck3.set_fill('pink')\n",
    "else:\n",
    "    t = Text(50, 15, \"Kein Schnittpunkt\", view)"
   ]
  }
 ],
 "metadata": {
  "kernelspec": {
   "display_name": "Python 3 (ipykernel)",
   "language": "python",
   "name": "python3"
  },
  "language_info": {
   "codemirror_mode": {
    "name": "ipython",
    "version": 3
   },
   "file_extension": ".py",
   "mimetype": "text/x-python",
   "name": "python",
   "nbconvert_exporter": "python",
   "pygments_lexer": "ipython3",
   "version": "3.11.0"
  }
 },
 "nbformat": 4,
 "nbformat_minor": 5
}
