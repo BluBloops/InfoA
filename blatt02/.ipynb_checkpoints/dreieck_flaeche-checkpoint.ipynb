{
 "cells": [
  {
   "cell_type": "code",
   "execution_count": 7,
   "id": "36e4768b",
   "metadata": {},
   "outputs": [],
   "source": [
    "import math"
   ]
  },
  {
   "cell_type": "code",
   "execution_count": 15,
   "id": "ce3a8e44",
   "metadata": {},
   "outputs": [
    {
     "name": "stdout",
     "output_type": "stream",
     "text": [
      "Bitte Seite a >= 1 eingeben: 25\n",
      "Bitte Seite b >= 1 eingeben: 25\n",
      "Bitte Seite c >= 1 eingeben: 50\n",
      "Dreieck existiert nicht\n",
      "Bitte Seite a >= 1 eingeben: 25\n",
      "Bitte Seite b >= 1 eingeben: 26\n",
      "Bitte Seite c >= 1 eingeben: 50\n"
     ]
    }
   ],
   "source": [
    "while True:\n",
    "    try:\n",
    "        seite_a = float(input('Bitte Seite a >= 1 eingeben: '))\n",
    "        seite_b = float(input('Bitte Seite b >= 1 eingeben: '))\n",
    "        seite_c = float(input('Bitte Seite c >= 1 eingeben: '))\n",
    "    except ValueError:\n",
    "        print('Bitte Fließkommazahlen verwenden')\n",
    "        continue\n",
    "    # Bedingung um zu erproben, ob das Dreieck überhaupt existieren kann\n",
    "    if not ((seite_a + seite_b > seite_c) and (seite_a + seite_c > seite_b) and (seite_b + seite_c > seite_a)):\n",
    "        print('Dreieck existiert nicht')\n",
    "        continue\n",
    "    if ((seite_a < 1) or (seite_b < 1) or (seite_c < 1)):\n",
    "        print('Bitte Werte größer als oder gleich 1 verwenden')\n",
    "        continue\n",
    "    else:\n",
    "        break"
   ]
  },
  {
   "cell_type": "code",
   "execution_count": 16,
   "id": "913214ba",
   "metadata": {},
   "outputs": [
    {
     "name": "stdout",
     "output_type": "stream",
     "text": [
      "Der Flaecheninhalt des Dreieck ist:  125.5983180619868\n",
      "Das Dreieck ist nicht rechtswinklig\n"
     ]
    }
   ],
   "source": [
    "# Anwendung der Heronschen Formel zur Ermittlung des Flächeninhalts vom Dreieck\n",
    "s = (seite_a + seite_b + seite_c) / 2\n",
    "flaeche = math.sqrt(s * (s - seite_a) * (s - seite_b) * (s - seite_c))\n",
    "print('Der Flaecheninhalt des Dreieck ist: ', flaeche)\n",
    "\n",
    "# Anwendung des Satz des Pythagoras zur Ermittlung auf Rechtswinkligkeit\n",
    "if (seite_a**2 + seite_b**2 == seite_c**2) or (seite_a**2 + seite_c**2 == seite_b**2) or (seite_b**2 + seite_c**2 == seite_a**2):\n",
    "    print('Das Dreieck ist rechtswinklig')\n",
    "else:\n",
    "    print('Das Dreieck ist nicht rechtswinklig')"
   ]
  }
 ],
 "metadata": {
  "kernelspec": {
   "display_name": "Python 3 (ipykernel)",
   "language": "python",
   "name": "python3"
  },
  "language_info": {
   "codemirror_mode": {
    "name": "ipython",
    "version": 3
   },
   "file_extension": ".py",
   "mimetype": "text/x-python",
   "name": "python",
   "nbconvert_exporter": "python",
   "pygments_lexer": "ipython3",
   "version": "3.11.0"
  }
 },
 "nbformat": 4,
 "nbformat_minor": 5
}
