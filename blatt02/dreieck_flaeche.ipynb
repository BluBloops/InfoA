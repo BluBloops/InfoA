{
 "cells": [
  {
   "cell_type": "code",
   "execution_count": 2,
   "id": "ce3a8e44",
   "metadata": {},
   "outputs": [
    {
     "name": "stdout",
     "output_type": "stream",
     "text": [
      "Bitte Seite a >= 1 eingeben: 14\n",
      "Bitte Seite b >= 1 eingeben: 3\n",
      "Bitte Seite c >= 1 eingeben: 4\n"
     ]
    }
   ],
   "source": [
    "while True:\n",
    "    try:\n",
    "        a = float(input('Bitte Seite a >= 1 eingeben: '))\n",
    "        b = float(input('Bitte Seite b >= 1 eingeben: '))\n",
    "        c = float(input('Bitte Seite c >= 1 eingeben: '))\n",
    "    except ValueError:\n",
    "        print('Bitte Fließkommazahlen verwenden')\n",
    "        continue\n",
    "    if not ((a + b > c) or (a + c > b) or (b + c > a)):\n",
    "        print('Dreieck existiert nicht')\n",
    "        continue\n",
    "    if ((a < 1) or (b < 1) or (c < 1)):\n",
    "        print('Bitte Werte größer als oder gleich 1 verwenden')\n",
    "        continue\n",
    "    else:\n",
    "        break"
   ]
  },
  {
   "cell_type": "code",
   "execution_count": null,
   "id": "913214ba",
   "metadata": {},
   "outputs": [],
   "source": []
  }
 ],
 "metadata": {
  "kernelspec": {
   "display_name": "Python 3 (ipykernel)",
   "language": "python",
   "name": "python3"
  },
  "language_info": {
   "codemirror_mode": {
    "name": "ipython",
    "version": 3
   },
   "file_extension": ".py",
   "mimetype": "text/x-python",
   "name": "python",
   "nbconvert_exporter": "python",
   "pygments_lexer": "ipython3",
   "version": "3.11.0"
  }
 },
 "nbformat": 4,
 "nbformat_minor": 5
}
